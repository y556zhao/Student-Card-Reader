{
 "cells": [
  {
   "cell_type": "markdown",
   "metadata": {},
   "source": [
    "### Create dataset directories"
   ]
  },
  {
   "cell_type": "code",
   "execution_count": 21,
   "metadata": {},
   "outputs": [
    {
     "name": "stdout",
     "output_type": "stream",
     "text": [
      "./number/train/0\n",
      "./number/train/1\n",
      "./number/train/2\n",
      "./number/train/3\n",
      "./number/train/4\n",
      "./number/train/5\n",
      "./number/train/6\n",
      "./number/train/7\n",
      "./number/train/8\n",
      "./number/train/9\n",
      "./number/test/0\n",
      "./number/test/1\n",
      "./number/test/2\n",
      "./number/test/3\n",
      "./number/test/4\n",
      "./number/test/5\n",
      "./number/test/6\n",
      "./number/test/7\n",
      "./number/test/8\n",
      "./number/test/9\n"
     ]
    }
   ],
   "source": [
    "import os\n",
    " \n",
    "def makedir(directory):\n",
    "    \"\"\"makes a new directory if needed\"\"\"\n",
    "    if not os.path.exists(directory):\n",
    "        os.makedirs(directory)\n",
    "        return None, 0\n",
    "    \n",
    "for i in range(0,10):\n",
    "    directory_name = \"./number/train/\"+str(i)\n",
    "    print(directory_name)\n",
    "    makedir(directory_name) \n",
    " \n",
    "for i in range(0,10):\n",
    "    directory_name = \"./number/test/\"+str(i)\n",
    "    print(directory_name)\n",
    "    makedir(directory_name)"
   ]
  },
  {
   "cell_type": "markdown",
   "metadata": {},
   "source": [
    "### Data Augmentation"
   ]
  },
  {
   "cell_type": "code",
   "execution_count": 18,
   "metadata": {},
   "outputs": [],
   "source": [
    "import cv2\n",
    "import numpy as np \n",
    "import random\n",
    "import cv2\n",
    "from scipy.ndimage import convolve\n",
    " \n",
    "def DataAugmentation(frame, dim = 32):\n",
    "    random_num = np.random.randint(0,9)\n",
    " \n",
    "    if (random_num % 2 == 0):\n",
    "        frame = add_noise(frame)\n",
    "    if(random_num % 3 == 0):\n",
    "        frame = pixelate(frame)\n",
    "    else:\n",
    "        frame = stretch(frame)\n",
    "    frame = cv2.resize(frame, (dim, dim), interpolation = cv2.INTER_AREA)\n",
    "    return frame \n",
    " \n",
    "def add_noise(image):\n",
    "    prob = random.uniform(0.01, 0.05)\n",
    "    rnd = np.random.rand(image.shape[0], image.shape[1])\n",
    "    noisy = image.copy()\n",
    "    noisy[rnd < prob] = 0\n",
    "    noisy[rnd > 1 - prob] = 1\n",
    "    return noisy\n",
    " \n",
    "def pixelate(image):\n",
    "    dim = np.random.randint(8,12)\n",
    "    image = cv2.resize(image, (dim, dim), interpolation = cv2.INTER_AREA)\n",
    "    image = cv2.resize(image, (16, 16), interpolation = cv2.INTER_AREA)\n",
    "    return image\n",
    " \n",
    "def stretch(image):\n",
    "    ran = np.random.randint(0,3)*2\n",
    "    if np.random.randint(0,2) == 0:\n",
    "        frame = cv2.resize(image, (32, ran+32), interpolation = cv2.INTER_AREA)\n",
    "        return frame[int(ran/2):int(ran+32)-int(ran/2), 0:32]\n",
    "    else:\n",
    "        frame = cv2.resize(image, (ran+32, 32), interpolation = cv2.INTER_AREA)\n",
    "        return frame[0:32, int(ran/2):int(ran+32)-int(ran/2)]\n",
    "    "
   ]
  },
  {
   "cell_type": "markdown",
   "metadata": {},
   "source": [
    "### Create DataSet"
   ]
  },
  {
   "cell_type": "code",
   "execution_count": 22,
   "metadata": {},
   "outputs": [
    {
     "name": "stdout",
     "output_type": "stream",
     "text": [
      "10 images loaded\n",
      "data ready!\n"
     ]
    }
   ],
   "source": [
    "# Creating 1000 Images for each digit in training set\n",
    "from os import listdir\n",
    "from os.path import isfile, join\n",
    "\n",
    "# load orginal data augmentation\n",
    "mypath = \"./number/ORI/\"\n",
    "file_names = [f for f in listdir(mypath) if isfile(join(mypath, f))]\n",
    "print(str(len(file_names)) + ' images loaded')\n",
    "\n",
    "counter=0\n",
    "# create 100 images for each digit using data  \n",
    "for i, file in enumerate(file_names):\n",
    "    image = cv2.imread(mypath+file)\n",
    "    #cv2.imshow(\"digits1\", image)\n",
    "    for j in range(0,100):\n",
    "        roi = DataAugmentation(image)\n",
    "        resized = cv2.resize(roi, (32,32), interpolation = cv2.INTER_AREA)\n",
    "        cv2.imwrite(\"./number/train/\"+str(counter)+\"./_1_\"+str(j)+\".jpg\", resized)\n",
    "    counter=counter+1\n",
    "        \n",
    "print(\"data ready!\")\n",
    "cv2.destroyAllWindows()"
   ]
  }
 ],
 "metadata": {
  "kernelspec": {
   "display_name": "Python 3",
   "language": "python",
   "name": "python3"
  },
  "language_info": {
   "codemirror_mode": {
    "name": "ipython",
    "version": 3
   },
   "file_extension": ".py",
   "mimetype": "text/x-python",
   "name": "python",
   "nbconvert_exporter": "python",
   "pygments_lexer": "ipython3",
   "version": "3.6.8"
  }
 },
 "nbformat": 4,
 "nbformat_minor": 2
}
