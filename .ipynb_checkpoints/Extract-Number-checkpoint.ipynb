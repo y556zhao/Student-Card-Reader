{
 "cells": [
  {
   "cell_type": "markdown",
   "metadata": {},
   "source": [
    "### Extract data"
   ]
  },
  {
   "cell_type": "code",
   "execution_count": 14,
   "metadata": {},
   "outputs": [
    {
     "data": {
      "text/plain": [
       "True"
      ]
     },
     "execution_count": 14,
     "metadata": {},
     "output_type": "execute_result"
    },
    {
     "data": {
      "image/png": "[encoded data removed]",
      "text/plain": [
       "<Figure size 432x288 with 1 Axes>"
      ]
     },
     "metadata": {
      "needs_background": "light"
     },
     "output_type": "display_data"
    }
   ],
   "source": [
    "img = mpimg.imread('./TestImage/studentidcard.jpg')\n",
    "plt.imshow(img)\n",
    "\n",
    "# run the function below if taking image using cameras\n",
    "#image = preprocess(img)\n",
    "\n",
    "region = [(92, 212), (195, 238)]\n",
    " \n",
    "top_left_y = region[0][1]\n",
    "bottom_right_y = region[1][1]\n",
    "top_left_x = region[0][0]\n",
    "bottom_right_x = region[1][0]\n",
    " \n",
    "# Extracting the area were the student numbers are located\n",
    "roi = img[top_left_y:bottom_right_y, top_left_x:bottom_right_x]\n",
    "plt.imshow(roi)\n",
    "cv2.imwrite(\"StudentNumber.jpg\", roi)\n"
   ]
  },
  {
   "cell_type": "markdown",
   "metadata": {},
   "source": [
    "### Preprocess the image (edge detection and warp transform)"
   ]
  },
  {
   "cell_type": "code",
   "execution_count": 5,
   "metadata": {},
   "outputs": [],
   "source": [
    "import cv2\n",
    "import numpy as np\n",
    "import matplotlib.pyplot as plt\n",
    "import matplotlib.image as mpimg\n",
    "%matplotlib inline\n",
    "import imutils\n",
    "from skimage.filters import threshold_adaptive\n",
    "import os\n",
    " \n",
    "def order_points(pts):\n",
    "    # initialize a list of coordinates \n",
    "    rect = np.zeros((4, 2), dtype = \"float32\")\n",
    " \n",
    "    # find the top-left point and the bottom-right point \n",
    "    s = pts.sum(axis = 1)\n",
    "    rect[0] = pts[np.argmin(s)]\n",
    "    rect[2] = pts[np.argmax(s)]\n",
    " \n",
    "    # find top-right and bottom-left points \n",
    "    diff = np.diff(pts, axis = 1)\n",
    "    rect[1] = pts[np.argmin(diff)]\n",
    "    rect[3] = pts[np.argmax(diff)]\n",
    " \n",
    "    # return the ordered coordinates\n",
    "    return rect\n",
    " \n",
    "def warp_transform(image, pts):\n",
    "    rect = order_points(pts)\n",
    "    (tl, tr, br, bl) = rect\n",
    " \n",
    "    # the width of the new image\n",
    "    widthA = np.sqrt(((br[0] - bl[0]) ** 2) + ((br[1] - bl[1]) ** 2))\n",
    "    widthB = np.sqrt(((tr[0] - tl[0]) ** 2) + ((tr[1] - tl[1]) ** 2))\n",
    "    maxWidth = max(int(widthA), int(widthB))\n",
    " \n",
    "    # the height of the new image\n",
    "    heightA = np.sqrt(((tr[0] - br[0]) ** 2) + ((tr[1] - br[1]) ** 2))\n",
    "    heightB = np.sqrt(((tl[0] - bl[0]) ** 2) + ((tl[1] - bl[1]) ** 2))\n",
    "    maxHeight = max(int(heightA), int(heightB))\n",
    " \n",
    "    # obtain a \"birds eye view\",\n",
    "    # (i.e. top-down view) of the image\n",
    "    dst = np.array([\n",
    "        [0, 0],\n",
    "        [maxWidth - 1, 0],\n",
    "        [maxWidth - 1, maxHeight - 1],\n",
    "        [0, maxHeight - 1]], dtype = \"float32\")\n",
    " \n",
    "    # compute the perspective transform matrix\n",
    "    M = cv2.getPerspectiveTransform(rect, dst)\n",
    "    warped = cv2.warpPerspective(image, M, (maxWidth, maxHeight))\n",
    " \n",
    "    # return the warped image\n",
    "    return warped\n",
    " \n",
    "def preprocess(image):\n",
    "    orig_height, orig_width = image.shape[:2]\n",
    "    ratio = image.shape[0] / 500.0\n",
    " \n",
    "    orig = image.copy()\n",
    "    # resize image using imutils tools\n",
    "    image = imutils.resize(image, height = 500)\n",
    "    orig_height, orig_width = image.shape[:2]\n",
    "    Original_Area = orig_height * orig_width\n",
    "    \n",
    "    # convert the image to grayscale, blur it, and find edges\n",
    "    gray = cv2.cvtColor(image, cv2.COLOR_BGR2GRAY)\n",
    "    gray = cv2.GaussianBlur(gray, (5, 5), 0)\n",
    "    edged = cv2.Canny(gray, 75, 200)\n",
    " \n",
    "    # find the largest contour in the edged image\n",
    "    contours, hierarchy  = cv2.findContours(edged.copy(), cv2.RETR_LIST, cv2.CHAIN_APPROX_SIMPLE)\n",
    "    contours = sorted(contours, key = cv2.contourArea, reverse = True)[:5]\n",
    "    \n",
    "    # loop over the contours\n",
    "    for c in contours:\n",
    "        # approximate the contour\n",
    "        area = cv2.contourArea(c)\n",
    "        if area < (Original_Area/3):\n",
    "            print(\"Error !!!! \")\n",
    "            return(\"ERROR\")\n",
    "        \n",
    "        peri = cv2.arcLength(c, True)\n",
    "        approx = cv2.approxPolyDP(c, 0.02 * peri, True)\n",
    " \n",
    "        # if it contains four point, it will be the contour\n",
    "        if len(approx) == 4:\n",
    "            screenCnt = approx\n",
    "            break\n",
    " \n",
    "    # show the contour of the piece of paper\n",
    "    cv2.drawContours(image, [screenCnt], -1, (0, 255, 0), 2)\n",
    "    cv2.imshow(\"Outline\", image)\n",
    " \n",
    "    # warp transform\n",
    "    warped = warp_transform(orig, screenCnt.reshape(4, 2) * ratio)\n",
    "    \n",
    "    # To grayscale\n",
    "    cv2.resize(warped, (640,403), interpolation = cv2.INTER_AREA)\n",
    "    warped = cv2.cvtColor(warped, cv2.COLOR_BGR2GRAY)\n",
    " \n",
    "    cv2.imshow(\"Extracted Student Card\", warped)\n",
    "    cv2.waitKey(0)\n",
    "    cv2.destroyAllWindows()\n",
    "    return warped"
   ]
  }
 ],
 "metadata": {
  "kernelspec": {
   "display_name": "Python 3",
   "language": "python",
   "name": "python3"
  },
  "language_info": {
   "codemirror_mode": {
    "name": "ipython",
    "version": 3
   },
   "file_extension": ".py",
   "mimetype": "text/x-python",
   "name": "python",
   "nbconvert_exporter": "python",
   "pygments_lexer": "ipython3",
   "version": "3.6.8"
  }
 },
 "nbformat": 4,
 "nbformat_minor": 2
}
